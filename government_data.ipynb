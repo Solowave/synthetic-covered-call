{
 "cells": [
  {
   "cell_type": "markdown",
   "metadata": {},
   "source": [
    "# Government Data\n",
    "\n",
    "Everyone is on the same playing field in terms of access to this data"
   ]
  },
  {
   "cell_type": "code",
   "execution_count": 2,
   "metadata": {},
   "outputs": [],
   "source": [
    "import requests\n",
    "import xml.etree.ElementTree as ET \n",
    "\n",
    "feed_url = \"https://www.federalreserve.gov/feeds/press_monetary.xml\"\n",
    "data = requests.get(feed_url)\n",
    "\n",
    "# https://stackoverflow.com/questions/44053478/why-does-%C3%AF-appear-in-my-data\n",
    "data.encoding = 'utf-8-sig'\n",
    "feed = data.text.strip('\\ufeff')\n",
    "# print(feed)"
   ]
  },
  {
   "cell_type": "code",
   "execution_count": 3,
   "metadata": {},
   "outputs": [
    {
     "name": "stdout",
     "output_type": "stream",
     "text": [
      "['https://www.federalreserve.gov/newsevents/pressreleases/monetary20231213a.htm', 'https://www.federalreserve.gov/newsevents/pressreleases/monetary20231101a.htm', 'https://www.federalreserve.gov/newsevents/pressreleases/monetary20230920a.htm', 'https://www.federalreserve.gov/newsevents/pressreleases/monetary20230726a.htm']\n"
     ]
    }
   ],
   "source": [
    "tree = ET.ElementTree(ET.fromstring(feed)) \n",
    "  \n",
    "# get root element \n",
    "root = tree.getroot() \n",
    "\n",
    "# create empty list for news items \n",
    "links = []\n",
    "\n",
    "# iterate news items \n",
    "for item in root.findall('./channel/item'): \n",
    "\n",
    "    # empty news dictionary \n",
    "    news = {} \n",
    "    \n",
    "    title = item[0]\n",
    "    if \"FOMC statement\" in title.text:\n",
    "        link = item[1]\n",
    "        # print(link.text)\n",
    "        links.append(link.text)\n",
    "\n",
    "print(links)"
   ]
  },
  {
   "cell_type": "code",
   "execution_count": 15,
   "metadata": {},
   "outputs": [
    {
     "name": "stdout",
     "output_type": "stream",
     "text": [
      "[['5-1/4', '5-1/2'], ['5-1/4', '5-1/2'], ['5-1/4', '5-1/2'], ['5-1/4', '5-1/2']]\n"
     ]
    }
   ],
   "source": [
    "interest_rates_targets = []\n",
    "prefix = len(\"federal funds rate at \")\n",
    "suffix = len(\"5-a/b to 5-a/b\")\n",
    "\n",
    "for link in links:\n",
    "    data = requests.get(link)\n",
    "    data.encoding = 'utf-8-sig'\n",
    "    response = data.text\n",
    "\n",
    "    index = response.find(\"federal funds rate\")    \n",
    "\n",
    "    interestRateTarget = response[index+prefix:index+prefix+suffix]\n",
    "    \n",
    "    interest_rates_targets.append(interestRateTarget.split(\" to \"))\n",
    "\n",
    "print(interest_rates_targets)"
   ]
  },
  {
   "cell_type": "markdown",
   "metadata": {},
   "source": [
    "# Predicting URL\n",
    "\n",
    "FOMC urls have the same format of -->\n",
    "# https://www.federalreserve.gov/newsevents/pressreleases/monetary20231101a.htm\n",
    "\n",
    "therefore, since we know the date it will be released, we can skip the rss feed and go to the link right away"
   ]
  },
  {
   "cell_type": "code",
   "execution_count": 5,
   "metadata": {},
   "outputs": [],
   "source": [
    "date = \"20231101\"\n",
    "url = \"https://www.federalreserve.gov/newsevents/pressreleases/monetary\"+date+\"a.htm\""
   ]
  }
 ],
 "metadata": {
  "kernelspec": {
   "display_name": "Python 3",
   "language": "python",
   "name": "python3"
  },
  "language_info": {
   "codemirror_mode": {
    "name": "ipython",
    "version": 3
   },
   "file_extension": ".py",
   "mimetype": "text/x-python",
   "name": "python",
   "nbconvert_exporter": "python",
   "pygments_lexer": "ipython3",
   "version": "3.11.0"
  }
 },
 "nbformat": 4,
 "nbformat_minor": 2
}
